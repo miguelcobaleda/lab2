{
 "cells": [
  {
   "cell_type": "markdown",
   "metadata": {},
   "source": [
    "# Descenso de gradiente - Miguel González Cobaleda"
   ]
  },
  {
   "cell_type": "markdown",
   "metadata": {},
   "source": [
    "## Objetivo\n",
    "El objetivo será encontrar la función que mejor ajuste a la nube de datos y por tanto minimice el error, para llevar a cabo este estudio se va a realizar el descenso de gradiente para encontrar el error mínimo de esta función."
   ]
  },
  {
   "cell_type": "markdown",
   "metadata": {},
   "source": [
    "## Carga de librerías"
   ]
  },
  {
   "cell_type": "code",
   "execution_count": 15,
   "metadata": {},
   "outputs": [],
   "source": [
    "import pandas as pd    # Carga de las librerias\n",
    "import numpy as np\n",
    "import seaborn as sns\n",
    "import matplotlib.pyplot as plt\n",
    "%matplotlib inline"
   ]
  },
  {
   "cell_type": "markdown",
   "metadata": {},
   "source": [
    "## Lectura de los datos"
   ]
  },
  {
   "cell_type": "markdown",
   "metadata": {},
   "source": [
    "Los datos consisten en una serie de notas en exámenes, diferenciando entre hombres y mujeres"
   ]
  },
  {
   "cell_type": "code",
   "execution_count": 2,
   "metadata": {},
   "outputs": [],
   "source": [
    "data = pd.read_csv('../data/4_1_data.csv') # carga de datos"
   ]
  },
  {
   "cell_type": "markdown",
   "metadata": {},
   "source": [
    "## Visualización y analisis de variables"
   ]
  },
  {
   "cell_type": "code",
   "execution_count": 3,
   "metadata": {},
   "outputs": [
    {
     "data": {
      "text/html": [
       "<div>\n",
       "<style scoped>\n",
       "    .dataframe tbody tr th:only-of-type {\n",
       "        vertical-align: middle;\n",
       "    }\n",
       "\n",
       "    .dataframe tbody tr th {\n",
       "        vertical-align: top;\n",
       "    }\n",
       "\n",
       "    .dataframe thead th {\n",
       "        text-align: right;\n",
       "    }\n",
       "</style>\n",
       "<table border=\"1\" class=\"dataframe\">\n",
       "  <thead>\n",
       "    <tr style=\"text-align: right;\">\n",
       "      <th></th>\n",
       "      <th>score-1</th>\n",
       "      <th>score-2</th>\n",
       "      <th>label</th>\n",
       "    </tr>\n",
       "  </thead>\n",
       "  <tbody>\n",
       "    <tr>\n",
       "      <th>0</th>\n",
       "      <td>34.623660</td>\n",
       "      <td>78.024693</td>\n",
       "      <td>0</td>\n",
       "    </tr>\n",
       "    <tr>\n",
       "      <th>1</th>\n",
       "      <td>30.286711</td>\n",
       "      <td>43.894998</td>\n",
       "      <td>0</td>\n",
       "    </tr>\n",
       "    <tr>\n",
       "      <th>2</th>\n",
       "      <td>35.847409</td>\n",
       "      <td>72.902198</td>\n",
       "      <td>0</td>\n",
       "    </tr>\n",
       "    <tr>\n",
       "      <th>3</th>\n",
       "      <td>60.182599</td>\n",
       "      <td>86.308552</td>\n",
       "      <td>1</td>\n",
       "    </tr>\n",
       "    <tr>\n",
       "      <th>4</th>\n",
       "      <td>79.032736</td>\n",
       "      <td>75.344376</td>\n",
       "      <td>1</td>\n",
       "    </tr>\n",
       "  </tbody>\n",
       "</table>\n",
       "</div>"
      ],
      "text/plain": [
       "     score-1    score-2  label\n",
       "0  34.623660  78.024693      0\n",
       "1  30.286711  43.894998      0\n",
       "2  35.847409  72.902198      0\n",
       "3  60.182599  86.308552      1\n",
       "4  79.032736  75.344376      1"
      ]
     },
     "execution_count": 3,
     "metadata": {},
     "output_type": "execute_result"
    }
   ],
   "source": [
    "data.head()"
   ]
  },
  {
   "cell_type": "code",
   "execution_count": 4,
   "metadata": {},
   "outputs": [
    {
     "data": {
      "text/html": [
       "<div>\n",
       "<style scoped>\n",
       "    .dataframe tbody tr th:only-of-type {\n",
       "        vertical-align: middle;\n",
       "    }\n",
       "\n",
       "    .dataframe tbody tr th {\n",
       "        vertical-align: top;\n",
       "    }\n",
       "\n",
       "    .dataframe thead th {\n",
       "        text-align: right;\n",
       "    }\n",
       "</style>\n",
       "<table border=\"1\" class=\"dataframe\">\n",
       "  <thead>\n",
       "    <tr style=\"text-align: right;\">\n",
       "      <th></th>\n",
       "      <th>score-1</th>\n",
       "      <th>score-2</th>\n",
       "      <th>label</th>\n",
       "    </tr>\n",
       "  </thead>\n",
       "  <tbody>\n",
       "    <tr>\n",
       "      <th>95</th>\n",
       "      <td>83.489163</td>\n",
       "      <td>48.380286</td>\n",
       "      <td>1</td>\n",
       "    </tr>\n",
       "    <tr>\n",
       "      <th>96</th>\n",
       "      <td>42.261701</td>\n",
       "      <td>87.103851</td>\n",
       "      <td>1</td>\n",
       "    </tr>\n",
       "    <tr>\n",
       "      <th>97</th>\n",
       "      <td>99.315009</td>\n",
       "      <td>68.775409</td>\n",
       "      <td>1</td>\n",
       "    </tr>\n",
       "    <tr>\n",
       "      <th>98</th>\n",
       "      <td>55.340018</td>\n",
       "      <td>64.931938</td>\n",
       "      <td>1</td>\n",
       "    </tr>\n",
       "    <tr>\n",
       "      <th>99</th>\n",
       "      <td>74.775893</td>\n",
       "      <td>89.529813</td>\n",
       "      <td>1</td>\n",
       "    </tr>\n",
       "  </tbody>\n",
       "</table>\n",
       "</div>"
      ],
      "text/plain": [
       "      score-1    score-2  label\n",
       "95  83.489163  48.380286      1\n",
       "96  42.261701  87.103851      1\n",
       "97  99.315009  68.775409      1\n",
       "98  55.340018  64.931938      1\n",
       "99  74.775893  89.529813      1"
      ]
     },
     "execution_count": 4,
     "metadata": {},
     "output_type": "execute_result"
    }
   ],
   "source": [
    "data.tail()"
   ]
  },
  {
   "cell_type": "code",
   "execution_count": 5,
   "metadata": {},
   "outputs": [
    {
     "data": {
      "text/plain": [
       "(100, 3)"
      ]
     },
     "execution_count": 5,
     "metadata": {},
     "output_type": "execute_result"
    }
   ],
   "source": [
    "data.shape # 100 filas y 3 columnas"
   ]
  },
  {
   "cell_type": "code",
   "execution_count": 6,
   "metadata": {},
   "outputs": [
    {
     "data": {
      "text/plain": [
       "score-1    0\n",
       "score-2    0\n",
       "label      0\n",
       "dtype: int64"
      ]
     },
     "execution_count": 6,
     "metadata": {},
     "output_type": "execute_result"
    }
   ],
   "source": [
    "data.isnull().sum() # observamos que no existen observaciones nulas en linguna columna"
   ]
  },
  {
   "cell_type": "code",
   "execution_count": 7,
   "metadata": {},
   "outputs": [],
   "source": [
    "x = data.iloc[:,[0,1]] # seleccionamos mediante iloc todas las filas de las columnas score-1 y score-2 y las guardamos en el objeto 'x'\n",
    "y = data.iloc[:,2]    # seleccionamos mediante iloc todas las filas de la columna label y las guardamos en el objeto 'y'\n",
    "scores = data.iloc[:,[0,1]].values # agrupamos las dos primeras columnas en forma de array y las guardamos en el objeto 'scores'\n",
    "label = data.iloc[:,2].values # agrupamos la última columna en forma de array y la guardamos en el objeto 'label'"
   ]
  },
  {
   "cell_type": "markdown",
   "metadata": {},
   "source": [
    "## Clasificación binaria\n",
    "Creamos el gráfico de la nube de puntos, a su vez creamos dos objetos 'passed' si tiene valor en la columna label de 1 y 'failed' si tiene valor en la columna label de 0"
   ]
  },
  {
   "cell_type": "code",
   "execution_count": 30,
   "metadata": {},
   "outputs": [
    {
     "data": {
      "image/png": "[encoded data removed]",
      "text/plain": [
       "<Figure size 432x288 with 1 Axes>"
      ]
     },
     "metadata": {
      "needs_background": "light"
     },
     "output_type": "display_data"
    }
   ],
   "source": [
    "passed = (label == 1).reshape(100, 1) \n",
    "failed = (label == 0).reshape(100, 1)\n",
    "\n",
    "ax = sns.scatterplot(x = scores[passed[:, 0], 0],\n",
    "                     y = scores[passed[:, 0], 1],\n",
    "                     marker = \".\",\n",
    "                     color = \"black\",\n",
    "                     s = 60)\n",
    "sns.scatterplot(x = scores[failed[:, 0], 0],\n",
    "                y = scores[failed[:, 0], 1],\n",
    "                marker = '+',\n",
    "                color = \"red\",\n",
    "                s = 60)\n",
    "ax.set(xlabel=\"score-1\", ylabel=\"score-2\")\n",
    "ax.legend([\"label 1\", \"label 0\"])\n",
    "plt.show();"
   ]
  },
  {
   "cell_type": "markdown",
   "metadata": {},
   "source": [
    "## Creación de las funciones"
   ]
  },
  {
   "cell_type": "markdown",
   "metadata": {},
   "source": [
    "### Función logistica\n",
    "Tendrá pendiente ascendente, también se puede llamar sigmoide"
   ]
  },
  {
   "cell_type": "code",
   "execution_count": 8,
   "metadata": {},
   "outputs": [],
   "source": [
    "def logistic_function(x):    \n",
    "    return 1/ (1 + np.exp(-x)) # creación de la funcion logistica, también llamada sigmoide."
   ]
  },
  {
   "cell_type": "markdown",
   "metadata": {},
   "source": [
    "### Función de coste\n",
    "Se crea la función de coste, el objetivo será ir minimizando el error hasta que llegue un punto en el que por más iteraciones que llevemos a cabo, la minimización del error sea imperceptible.\n",
    "Sigue la siguiente fórmula:\n",
    "\n",
    "$ȷ(w,b)=1n∑n1ℓ(yiy^i)=−1n∑n1((yilog(y^i)+(yi+1)log(1−y^i))$"
   ]
  },
  {
   "cell_type": "code",
   "execution_count": 9,
   "metadata": {},
   "outputs": [],
   "source": [
    "def compute_cost(theta, x, y): # creacion de la función de costes, está basada en el error, es decir, la diferencia entre el valor real y la prediccion\n",
    "    m = len(y)\n",
    "    y_pred = logistic_function(np.dot(x , theta))\n",
    "    error = (y * np.log(y_pred)) + ((1 - y) * np.log(1 - y_pred))\n",
    "    cost = -1 / m * sum(error)\n",
    "    gradient = 1 / m * np.dot(x.transpose(), (y_pred - y))\n",
    "    return cost[0] , gradient"
   ]
  },
  {
   "cell_type": "markdown",
   "metadata": {},
   "source": [
    "Cálculo del coste y de la gradiente al principio"
   ]
  },
  {
   "cell_type": "code",
   "execution_count": 10,
   "metadata": {},
   "outputs": [
    {
     "name": "stdout",
     "output_type": "stream",
     "text": [
      "Coste al inicio: 0.693147180559946\n",
      "Gradiente al inicio: [[-0.1       ]\n",
      " [-0.28122914]\n",
      " [-0.25098615]]\n"
     ]
    }
   ],
   "source": [
    "mean_scores = np.mean(scores, axis=0)\n",
    "std_scores = np.std(scores, axis=0)\n",
    "scores = (scores - mean_scores) / std_scores \n",
    "\n",
    "rows = scores.shape[0]\n",
    "cols = scores.shape[1]\n",
    "\n",
    "X = np.append(np.ones((rows, 1)), scores, axis=1) \n",
    "y = label.reshape(rows, 1)\n",
    "\n",
    "theta_init = np.zeros((cols + 1, 1))\n",
    "cost, gradient = compute_cost(theta_init, X, y)\n",
    "\n",
    "print(\"Coste al inicio:\", cost)\n",
    "print(\"Gradiente al inicio:\", gradient)\n"
   ]
  },
  {
   "cell_type": "markdown",
   "metadata": {},
   "source": [
    "## Función de gradiente\n",
    "Para encontrar el minimo, se utliza el descenso de gradiente, que se vale de derivadas para encontrar el mínimo.\n",
    "Será esencial indicarle el alpha o tasa de aprendizaje y el número de iteraciones, en nuestro caso elegimos un alpha de 0.8 y 1500 iteraciones"
   ]
  },
  {
   "cell_type": "code",
   "execution_count": 11,
   "metadata": {},
   "outputs": [
    {
     "name": "stdout",
     "output_type": "stream",
     "text": [
      "Theta después del descenso de gradiente: [[1.71790302]\n",
      " [3.99162072]\n",
      " [3.72400735]]\n",
      "Resultado de coste: 0.2034977101767841\n"
     ]
    }
   ],
   "source": [
    "def gradient_descent(x, y, theta, alpha, iterations): # Creamos la funcion de gradiente, en esta funcion incluimos entre otras cosas el alpha o learning rate que estara entre 0 y 1; y el nuemro de iteracciones o 'pasos'                                                    \n",
    "    costs = []\n",
    "    for i in range(iterations):\n",
    "        cost, gradient = compute_cost(theta, x, y)\n",
    "        theta -= (alpha * gradient)\n",
    "        costs.append(cost)\n",
    "    return theta, costs\n",
    "theta, costs = gradient_descent(X, y, theta_init, 0.8, 1500) # aqui es donde le indicamos la tasa de aprendizaje y el numero de iteraciones\n",
    "\n",
    "print(\"Theta después del descenso de gradiente:\", theta)\n",
    "print(\"Resultado de coste:\", costs[-1])"
   ]
  },
  {
   "cell_type": "markdown",
   "metadata": {},
   "source": [
    "## Gráfico de las iteraciones\n",
    "Según observamos en el gráfico, las primeras iteraciones descendian el error de forma abultada, pero cuando el error va tendiendo hacia el mínimo el descenso empieza a ser menor hasta encontrarse en un punto en el cual aunque haga más iteraciónes, la mejora será mínima."
   ]
  },
  {
   "cell_type": "code",
   "execution_count": 12,
   "metadata": {},
   "outputs": [
    {
     "data": {
      "image/png": "[encoded data removed]",
      "text/plain": [
       "<Figure size 432x288 with 1 Axes>"
      ]
     },
     "metadata": {
      "needs_background": "light"
     },
     "output_type": "display_data"
    }
   ],
   "source": [
    "plt.plot(costs,'.') # representamos la funcion de coste o error, en la que como se puede observar tiende hacia un minimo\n",
    "plt.xlabel(\"Iteraciones\")\n",
    "plt.ylabel(\"$J(\\Theta)$\")\n",
    "plt.title(\"Descenso de la función de costes\");"
   ]
  },
  {
   "cell_type": "markdown",
   "metadata": {},
   "source": [
    "## Creación frontera de decisión\n",
    "Lo que hacemos es definir el gráfico de la nube de puntos del principio y después creamos una linea generada con los datos obtenidos del descenso de gradiente.\n",
    "Como podemos ver la linea ajusta bastante bien."
   ]
  },
  {
   "cell_type": "code",
   "execution_count": 32,
   "metadata": {},
   "outputs": [
    {
     "data": {
      "image/png": "[encoded data removed]",
      "text/plain": [
       "<Figure size 432x288 with 1 Axes>"
      ]
     },
     "metadata": {
      "needs_background": "light"
     },
     "output_type": "display_data"
    }
   ],
   "source": [
    "sns.scatterplot(x = X[passed[:, 0], 1],\n",
    "                y = X[passed[:, 0], 2],\n",
    "                marker = \".\",\n",
    "                color = \"black\",\n",
    "                s = 60)\n",
    "ax = sns.scatterplot(x = X[failed[:, 0], 1],\n",
    "                    y = X[failed[:, 0], 2],\n",
    "                    marker = \"+\",\n",
    "                    color = \"red\",\n",
    "                    s = 60)\n",
    "\n",
    "ax.legend([\"label 1\", \"label 0\"])\n",
    "ax.set(xlabel=\"score-1\", ylabel=\"score-2\")\n",
    "\n",
    "\n",
    "x_boundary = np.array([np.min(X[:, 1]), np.max(X[:, 1])])\n",
    "y_boundary = -(theta[0] + theta[1] * x_boundary) / theta[2]\n",
    "\n",
    "sns.lineplot(x = x_boundary, y = y_boundary, color=\"blue\")\n",
    "plt.show();"
   ]
  }
 ],
 "metadata": {
  "kernelspec": {
   "display_name": "'scores'",
   "language": "python",
   "name": "scores"
  },
  "language_info": {
   "codemirror_mode": {
    "name": "ipython",
    "version": 3
   },
   "file_extension": ".py",
   "mimetype": "text/x-python",
   "name": "python",
   "nbconvert_exporter": "python",
   "pygments_lexer": "ipython3",
   "version": "3.8.5"
  }
 },
 "nbformat": 4,
 "nbformat_minor": 4
}
